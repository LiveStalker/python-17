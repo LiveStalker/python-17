{
 "cells": [
  {
   "cell_type": "markdown",
   "metadata": {
    "collapsed": true
   },
   "source": [
    "# Canada Open Data #"
   ]
  },
  {
   "cell_type": "markdown",
   "metadata": {},
   "source": [
    "## Набор данных ##"
   ]
  },
  {
   "cell_type": "markdown",
   "metadata": {},
   "source": [
    "url: http://www.data.gc.ca/\n",
    "\n",
    "Набор данных: [Annual Projections of New Immigrants Seeking Jobs by Occupation](http://www.edsc-esdc.gc.ca/ouvert-open/labour-travail/immigration_2015_2024.csv) \n",
    "(Ежегодные прогнозы новых иммигрантов, ищущих работу по профессии)"
   ]
  },
  {
   "cell_type": "markdown",
   "metadata": {},
   "source": [
    "Данные уже загружены и находятся в ./data/immigration_2015_2024.csv\n",
    "\n",
    "Загрузим данные и посмотрим некоторые из них. Данные в кодировке cp1250."
   ]
  },
  {
   "cell_type": "markdown",
   "metadata": {},
   "source": [
    "## Структура данных ##"
   ]
  },
  {
   "cell_type": "markdown",
   "metadata": {},
   "source": [
    "* Code - COPS код группы профессий\n",
    "* Occupation_Name - английское название\n",
    "* Nom_de_la_profession - французское название\n",
    "* 2014-2024 - прогноз по годам"
   ]
  },
  {
   "cell_type": "markdown",
   "metadata": {},
   "source": [
    "## \"Познакомимся\" с данными ##"
   ]
  },
  {
   "cell_type": "code",
   "execution_count": 2,
   "metadata": {
    "collapsed": true
   },
   "outputs": [],
   "source": [
    "import pandas as pd\n",
    "import matplotlib.pyplot as plt\n",
    "%matplotlib inline"
   ]
  },
  {
   "cell_type": "code",
   "execution_count": 3,
   "metadata": {
    "collapsed": true,
    "scrolled": true
   },
   "outputs": [],
   "source": [
    "data = pd.read_csv('./data/immigration_2015_2024.csv', index_col=1, encoding='cp1250')\n",
    "del data['Code']\n",
    "del data['Nom_de_la_profession']"
   ]
  },
  {
   "cell_type": "markdown",
   "metadata": {},
   "source": [
    "Посмотрим первые записи"
   ]
  },
  {
   "cell_type": "code",
   "execution_count": 4,
   "metadata": {},
   "outputs": [
    {
     "data": {
      "text/html": [
       "<div>\n",
       "<style>\n",
       "    .dataframe thead tr:only-child th {\n",
       "        text-align: right;\n",
       "    }\n",
       "\n",
       "    .dataframe thead th {\n",
       "        text-align: left;\n",
       "    }\n",
       "\n",
       "    .dataframe tbody tr th {\n",
       "        vertical-align: top;\n",
       "    }\n",
       "</style>\n",
       "<table border=\"1\" class=\"dataframe\">\n",
       "  <thead>\n",
       "    <tr style=\"text-align: right;\">\n",
       "      <th></th>\n",
       "      <th>2014</th>\n",
       "      <th>2015</th>\n",
       "      <th>2016</th>\n",
       "      <th>2017</th>\n",
       "      <th>2018</th>\n",
       "      <th>2019</th>\n",
       "      <th>2020</th>\n",
       "      <th>2021</th>\n",
       "      <th>2022</th>\n",
       "      <th>2023</th>\n",
       "      <th>2024</th>\n",
       "    </tr>\n",
       "    <tr>\n",
       "      <th>Occupation_Name</th>\n",
       "      <th></th>\n",
       "      <th></th>\n",
       "      <th></th>\n",
       "      <th></th>\n",
       "      <th></th>\n",
       "      <th></th>\n",
       "      <th></th>\n",
       "      <th></th>\n",
       "      <th></th>\n",
       "      <th></th>\n",
       "      <th></th>\n",
       "    </tr>\n",
       "  </thead>\n",
       "  <tbody>\n",
       "    <tr>\n",
       "      <th>All Occupations</th>\n",
       "      <td>120400</td>\n",
       "      <td>116600</td>\n",
       "      <td>118200</td>\n",
       "      <td>119700</td>\n",
       "      <td>121300</td>\n",
       "      <td>122900</td>\n",
       "      <td>124500</td>\n",
       "      <td>126000</td>\n",
       "      <td>127600</td>\n",
       "      <td>128900</td>\n",
       "      <td>130300</td>\n",
       "    </tr>\n",
       "    <tr>\n",
       "      <th>Management Occupations</th>\n",
       "      <td>9200</td>\n",
       "      <td>8900</td>\n",
       "      <td>8900</td>\n",
       "      <td>9000</td>\n",
       "      <td>9000</td>\n",
       "      <td>9100</td>\n",
       "      <td>9100</td>\n",
       "      <td>9200</td>\n",
       "      <td>9300</td>\n",
       "      <td>9300</td>\n",
       "      <td>9400</td>\n",
       "    </tr>\n",
       "    <tr>\n",
       "      <th>Occupations usually require university education.</th>\n",
       "      <td>24100</td>\n",
       "      <td>23300</td>\n",
       "      <td>23500</td>\n",
       "      <td>23800</td>\n",
       "      <td>24100</td>\n",
       "      <td>24400</td>\n",
       "      <td>24700</td>\n",
       "      <td>25000</td>\n",
       "      <td>25300</td>\n",
       "      <td>25500</td>\n",
       "      <td>25800</td>\n",
       "    </tr>\n",
       "    <tr>\n",
       "      <th>Occupations usually require college or vocational education or apprenticeship training.</th>\n",
       "      <td>32800</td>\n",
       "      <td>31900</td>\n",
       "      <td>32500</td>\n",
       "      <td>33000</td>\n",
       "      <td>33600</td>\n",
       "      <td>34100</td>\n",
       "      <td>34700</td>\n",
       "      <td>35200</td>\n",
       "      <td>35700</td>\n",
       "      <td>36200</td>\n",
       "      <td>36700</td>\n",
       "    </tr>\n",
       "    <tr>\n",
       "      <th>Occupations usually require secondary school and/or occupation-specific training.</th>\n",
       "      <td>35800</td>\n",
       "      <td>34500</td>\n",
       "      <td>34900</td>\n",
       "      <td>35300</td>\n",
       "      <td>35700</td>\n",
       "      <td>36100</td>\n",
       "      <td>36500</td>\n",
       "      <td>36900</td>\n",
       "      <td>37300</td>\n",
       "      <td>37600</td>\n",
       "      <td>37900</td>\n",
       "    </tr>\n",
       "  </tbody>\n",
       "</table>\n",
       "</div>"
      ],
      "text/plain": [
       "                                                      2014    2015    2016  \\\n",
       "Occupation_Name                                                              \n",
       "All Occupations                                     120400  116600  118200   \n",
       "Management Occupations                                9200    8900    8900   \n",
       "Occupations usually require university education.    24100   23300   23500   \n",
       "Occupations usually require college or vocation...   32800   31900   32500   \n",
       "Occupations usually require secondary school an...   35800   34500   34900   \n",
       "\n",
       "                                                      2017    2018    2019  \\\n",
       "Occupation_Name                                                              \n",
       "All Occupations                                     119700  121300  122900   \n",
       "Management Occupations                                9000    9000    9100   \n",
       "Occupations usually require university education.    23800   24100   24400   \n",
       "Occupations usually require college or vocation...   33000   33600   34100   \n",
       "Occupations usually require secondary school an...   35300   35700   36100   \n",
       "\n",
       "                                                      2020    2021    2022  \\\n",
       "Occupation_Name                                                              \n",
       "All Occupations                                     124500  126000  127600   \n",
       "Management Occupations                                9100    9200    9300   \n",
       "Occupations usually require university education.    24700   25000   25300   \n",
       "Occupations usually require college or vocation...   34700   35200   35700   \n",
       "Occupations usually require secondary school an...   36500   36900   37300   \n",
       "\n",
       "                                                      2023    2024  \n",
       "Occupation_Name                                                     \n",
       "All Occupations                                     128900  130300  \n",
       "Management Occupations                                9300    9400  \n",
       "Occupations usually require university education.    25500   25800  \n",
       "Occupations usually require college or vocation...   36200   36700  \n",
       "Occupations usually require secondary school an...   37600   37900  "
      ]
     },
     "execution_count": 4,
     "metadata": {},
     "output_type": "execute_result"
    }
   ],
   "source": [
    "data.head()"
   ]
  },
  {
   "cell_type": "markdown",
   "metadata": {},
   "source": [
    "Посмотрим последнии записи"
   ]
  },
  {
   "cell_type": "code",
   "execution_count": 5,
   "metadata": {},
   "outputs": [
    {
     "data": {
      "text/html": [
       "<div>\n",
       "<style>\n",
       "    .dataframe thead tr:only-child th {\n",
       "        text-align: right;\n",
       "    }\n",
       "\n",
       "    .dataframe thead th {\n",
       "        text-align: left;\n",
       "    }\n",
       "\n",
       "    .dataframe tbody tr th {\n",
       "        vertical-align: top;\n",
       "    }\n",
       "</style>\n",
       "<table border=\"1\" class=\"dataframe\">\n",
       "  <thead>\n",
       "    <tr style=\"text-align: right;\">\n",
       "      <th></th>\n",
       "      <th>2014</th>\n",
       "      <th>2015</th>\n",
       "      <th>2016</th>\n",
       "      <th>2017</th>\n",
       "      <th>2018</th>\n",
       "      <th>2019</th>\n",
       "      <th>2020</th>\n",
       "      <th>2021</th>\n",
       "      <th>2022</th>\n",
       "      <th>2023</th>\n",
       "      <th>2024</th>\n",
       "    </tr>\n",
       "    <tr>\n",
       "      <th>Occupation_Name</th>\n",
       "      <th></th>\n",
       "      <th></th>\n",
       "      <th></th>\n",
       "      <th></th>\n",
       "      <th></th>\n",
       "      <th></th>\n",
       "      <th></th>\n",
       "      <th></th>\n",
       "      <th></th>\n",
       "      <th></th>\n",
       "      <th></th>\n",
       "    </tr>\n",
       "  </thead>\n",
       "  <tbody>\n",
       "    <tr>\n",
       "      <th>Labourers in mineral and metal processing &amp; Labourers in metal fabrication</th>\n",
       "      <td>100</td>\n",
       "      <td>100</td>\n",
       "      <td>100</td>\n",
       "      <td>100</td>\n",
       "      <td>100</td>\n",
       "      <td>100</td>\n",
       "      <td>100</td>\n",
       "      <td>100</td>\n",
       "      <td>100</td>\n",
       "      <td>100</td>\n",
       "      <td>100</td>\n",
       "    </tr>\n",
       "    <tr>\n",
       "      <th>Labourers in chemical products processing and utilities &amp; Labourers in rubber and plastic products manufacturing</th>\n",
       "      <td>200</td>\n",
       "      <td>100</td>\n",
       "      <td>100</td>\n",
       "      <td>100</td>\n",
       "      <td>100</td>\n",
       "      <td>100</td>\n",
       "      <td>100</td>\n",
       "      <td>100</td>\n",
       "      <td>100</td>\n",
       "      <td>100</td>\n",
       "      <td>100</td>\n",
       "    </tr>\n",
       "    <tr>\n",
       "      <th>Labourers in wood, pulp and paper processing</th>\n",
       "      <td>0</td>\n",
       "      <td>0</td>\n",
       "      <td>0</td>\n",
       "      <td>0</td>\n",
       "      <td>0</td>\n",
       "      <td>0</td>\n",
       "      <td>0</td>\n",
       "      <td>0</td>\n",
       "      <td>0</td>\n",
       "      <td>0</td>\n",
       "      <td>0</td>\n",
       "    </tr>\n",
       "    <tr>\n",
       "      <th>Labourers in textile processing &amp; Other labourers in processing, manufacturing and utilities</th>\n",
       "      <td>1100</td>\n",
       "      <td>1100</td>\n",
       "      <td>1000</td>\n",
       "      <td>1000</td>\n",
       "      <td>1000</td>\n",
       "      <td>1000</td>\n",
       "      <td>1000</td>\n",
       "      <td>1000</td>\n",
       "      <td>1000</td>\n",
       "      <td>1000</td>\n",
       "      <td>1000</td>\n",
       "    </tr>\n",
       "    <tr>\n",
       "      <th>Labourers in food, beverage and related products processing &amp; Labourers in fish and seafood processing</th>\n",
       "      <td>1100</td>\n",
       "      <td>1000</td>\n",
       "      <td>1000</td>\n",
       "      <td>1000</td>\n",
       "      <td>1000</td>\n",
       "      <td>1000</td>\n",
       "      <td>1000</td>\n",
       "      <td>1000</td>\n",
       "      <td>1000</td>\n",
       "      <td>1000</td>\n",
       "      <td>900</td>\n",
       "    </tr>\n",
       "  </tbody>\n",
       "</table>\n",
       "</div>"
      ],
      "text/plain": [
       "                                                    2014  2015  2016  2017  \\\n",
       "Occupation_Name                                                              \n",
       "Labourers in mineral and metal processing & Lab...   100   100   100   100   \n",
       "Labourers in chemical products processing and u...   200   100   100   100   \n",
       "Labourers in wood, pulp and paper processing           0     0     0     0   \n",
       "Labourers in textile processing & Other laboure...  1100  1100  1000  1000   \n",
       "Labourers in food, beverage and related product...  1100  1000  1000  1000   \n",
       "\n",
       "                                                    2018  2019  2020  2021  \\\n",
       "Occupation_Name                                                              \n",
       "Labourers in mineral and metal processing & Lab...   100   100   100   100   \n",
       "Labourers in chemical products processing and u...   100   100   100   100   \n",
       "Labourers in wood, pulp and paper processing           0     0     0     0   \n",
       "Labourers in textile processing & Other laboure...  1000  1000  1000  1000   \n",
       "Labourers in food, beverage and related product...  1000  1000  1000  1000   \n",
       "\n",
       "                                                    2022  2023  2024  \n",
       "Occupation_Name                                                       \n",
       "Labourers in mineral and metal processing & Lab...   100   100   100  \n",
       "Labourers in chemical products processing and u...   100   100   100  \n",
       "Labourers in wood, pulp and paper processing           0     0     0  \n",
       "Labourers in textile processing & Other laboure...  1000  1000  1000  \n",
       "Labourers in food, beverage and related product...  1000  1000   900  "
      ]
     },
     "execution_count": 5,
     "metadata": {},
     "output_type": "execute_result"
    }
   ],
   "source": [
    "data.tail()"
   ]
  },
  {
   "cell_type": "markdown",
   "metadata": {},
   "source": [
    "Размерность данных"
   ]
  },
  {
   "cell_type": "code",
   "execution_count": 6,
   "metadata": {},
   "outputs": [
    {
     "data": {
      "text/plain": [
       "(308, 11)"
      ]
     },
     "execution_count": 6,
     "metadata": {},
     "output_type": "execute_result"
    }
   ],
   "source": [
    "data.shape"
   ]
  },
  {
   "cell_type": "markdown",
   "metadata": {},
   "source": [
    "## Проверим есть ли отсутствующие значения в данных ##"
   ]
  },
  {
   "cell_type": "markdown",
   "metadata": {},
   "source": [
    "Проверим на NaN"
   ]
  },
  {
   "cell_type": "code",
   "execution_count": 7,
   "metadata": {},
   "outputs": [
    {
     "data": {
      "text/plain": [
       "2014    False\n",
       "2015    False\n",
       "2016    False\n",
       "2017    False\n",
       "2018    False\n",
       "2019    False\n",
       "2020    False\n",
       "2021    False\n",
       "2022    False\n",
       "2023    False\n",
       "2024    False\n",
       "dtype: bool"
      ]
     },
     "execution_count": 7,
     "metadata": {},
     "output_type": "execute_result"
    }
   ],
   "source": [
    "data.isnull().any()"
   ]
  },
  {
   "cell_type": "markdown",
   "metadata": {},
   "source": [
    "Проверим есть ли строки, содержащие только нули"
   ]
  },
  {
   "cell_type": "code",
   "execution_count": 22,
   "metadata": {},
   "outputs": [
    {
     "data": {
      "text/plain": [
       "20"
      ]
     },
     "execution_count": 22,
     "metadata": {},
     "output_type": "execute_result"
    }
   ],
   "source": [
    "zero_rows = data[(data == 0).all(axis=1)]\n",
    "zero_rows.shape[0]"
   ]
  },
  {
   "cell_type": "markdown",
   "metadata": {},
   "source": [
    "20 пустых строк, удалим их из набора данных"
   ]
  },
  {
   "cell_type": "code",
   "execution_count": 26,
   "metadata": {},
   "outputs": [],
   "source": [
    "data = data[(data != 0).any(axis=1)]"
   ]
  },
  {
   "cell_type": "markdown",
   "metadata": {},
   "source": [
    "Посмотрим как в целом по всем профессиям меняется количество иммигрантов ищущих работу."
   ]
  },
  {
   "cell_type": "code",
   "execution_count": 27,
   "metadata": {},
   "outputs": [
    {
     "data": {
      "text/plain": [
       "<matplotlib.axes._subplots.AxesSubplot at 0x7f0dba4f1b90>"
      ]
     },
     "execution_count": 27,
     "metadata": {},
     "output_type": "execute_result"
    },
    {
     "data": {
      "image/png": "[encoded data removed]",
      "text/plain": [
       "<matplotlib.figure.Figure at 0x7f0dba4f12d0>"
      ]
     },
     "metadata": {},
     "output_type": "display_data"
    }
   ],
   "source": [
    "data.iloc[0].plot(kind='bar')"
   ]
  },
  {
   "cell_type": "markdown",
   "metadata": {},
   "source": [
    "Найдем группу профессий с мин/макс количеством иммигрантов за текущий 2017 год"
   ]
  },
  {
   "cell_type": "code",
   "execution_count": 32,
   "metadata": {
    "collapsed": true
   },
   "outputs": [],
   "source": [
    "year = '2017'"
   ]
  },
  {
   "cell_type": "code",
   "execution_count": 33,
   "metadata": {},
   "outputs": [
    {
     "data": {
      "text/plain": [
       "u'Managers in public protection services'"
      ]
     },
     "execution_count": 33,
     "metadata": {},
     "output_type": "execute_result"
    }
   ],
   "source": [
    "ix_min = data[year].iloc[1:].idxmin()\n",
    "ix_min"
   ]
  },
  {
   "cell_type": "code",
   "execution_count": 34,
   "metadata": {},
   "outputs": [
    {
     "data": {
      "text/plain": [
       "0"
      ]
     },
     "execution_count": 34,
     "metadata": {},
     "output_type": "execute_result"
    }
   ],
   "source": [
    "data[year][ix_min]"
   ]
  },
  {
   "cell_type": "markdown",
   "metadata": {},
   "source": [
    "Не удивительно, что ноль. К группе \"Managers in public protection services\" относятся такие подгруппы профессий как:\n",
    "    \n",
    "    * Commissioned police officers\n",
    "    * Fire chiefs and senior firefighting officers\n",
    "    * Commissioned officers of the Canadian Forces\n",
    "    \n",
    "Т.е. то, что связано с безопасностью. Иммигрантов, как правило не берут на такие профессии. Давайте, посмотрим,\n",
    "а вообще по всем годам есть положительные прогнозы для данной группы?"
   ]
  },
  {
   "cell_type": "code",
   "execution_count": 41,
   "metadata": {},
   "outputs": [
    {
     "data": {
      "text/plain": [
       "<matplotlib.axes._subplots.AxesSubplot at 0x7f0dba2b3390>"
      ]
     },
     "execution_count": 41,
     "metadata": {},
     "output_type": "execute_result"
    },
    {
     "data": {
      "image/png": "[encoded data removed]",
      "text/plain": [
       "<matplotlib.figure.Figure at 0x7f0dba4f1150>"
      ]
     },
     "metadata": {},
     "output_type": "display_data"
    }
   ],
   "source": [
    "data.loc[ix_min].plot(kind='bar')"
   ]
  },
  {
   "cell_type": "markdown",
   "metadata": {},
   "source": [
    "В 2014 году были и по прогнозам в будущем будут."
   ]
  },
  {
   "cell_type": "code",
   "execution_count": 35,
   "metadata": {},
   "outputs": [
    {
     "data": {
      "text/plain": [
       "u'Sales and service occupations'"
      ]
     },
     "execution_count": 35,
     "metadata": {},
     "output_type": "execute_result"
    }
   ],
   "source": [
    "ix_max = data['2017'].iloc[1:].idxmax()\n",
    "ix_max"
   ]
  },
  {
   "cell_type": "code",
   "execution_count": 36,
   "metadata": {},
   "outputs": [
    {
     "data": {
      "text/plain": [
       "37500"
      ]
     },
     "execution_count": 36,
     "metadata": {},
     "output_type": "execute_result"
    }
   ],
   "source": [
    "data[year][ix_max]"
   ]
  },
  {
   "cell_type": "code",
   "execution_count": null,
   "metadata": {
    "collapsed": true
   },
   "outputs": [],
   "source": []
  }
 ],
 "metadata": {
  "kernelspec": {
   "display_name": "Python 2",
   "language": "python",
   "name": "python2"
  },
  "language_info": {
   "codemirror_mode": {
    "name": "ipython",
    "version": 2
   },
   "file_extension": ".py",
   "mimetype": "text/x-python",
   "name": "python",
   "nbconvert_exporter": "python",
   "pygments_lexer": "ipython2",
   "version": "2.7.12"
  }
 },
 "nbformat": 4,
 "nbformat_minor": 1
}
