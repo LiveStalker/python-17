{
 "cells": [
  {
   "cell_type": "markdown",
   "metadata": {
    "collapsed": true
   },
   "source": [
    "# Canada Open Data #"
   ]
  },
  {
   "cell_type": "markdown",
   "metadata": {},
   "source": [
    "## Набор данных ##"
   ]
  },
  {
   "cell_type": "markdown",
   "metadata": {},
   "source": [
    "url: http://www.data.gc.ca/\n",
    "\n",
    "Набор данных: [Annual Projections of New Immigrants Seeking Jobs by Occupation](http://www.edsc-esdc.gc.ca/ouvert-open/labour-travail/immigration_2015_2024.csv) \n",
    "(Ежегодные прогнозы новых иммигрантов, ищущих работу по профессии)"
   ]
  },
  {
   "cell_type": "markdown",
   "metadata": {},
   "source": [
    "Данные уже загружены и находятся в ./data/immigration_2015_2024.csv\n",
    "\n",
    "Загрузим данные и посмотрим некоторые из них. Данные в кодировке cp1250."
   ]
  },
  {
   "cell_type": "markdown",
   "metadata": {},
   "source": [
    "## Структура данных ##"
   ]
  },
  {
   "cell_type": "markdown",
   "metadata": {},
   "source": [
    "* Code - COPS код группы профессий\n",
    "* Occupation_Name - английское название\n",
    "* Nom_de_la_profession - французское название\n",
    "* 2014-2024 - прогноз по годам"
   ]
  },
  {
   "cell_type": "markdown",
   "metadata": {},
   "source": [
    "## \"Познакомимся\" с данными ##"
   ]
  },
  {
   "cell_type": "code",
   "execution_count": 80,
   "metadata": {
    "collapsed": true
   },
   "outputs": [],
   "source": [
    "import pandas as pd\n",
    "import matplotlib.pyplot as plt\n",
    "%matplotlib inline"
   ]
  },
  {
   "cell_type": "code",
   "execution_count": 81,
   "metadata": {
    "collapsed": true,
    "scrolled": true
   },
   "outputs": [],
   "source": [
    "data = pd.read_csv('./data/immigration_2015_2024.csv', index_col=1, encoding='cp1250')\n",
    "del data['Code']\n",
    "del data['Nom_de_la_profession']"
   ]
  },
  {
   "cell_type": "markdown",
   "metadata": {},
   "source": [
    "Посмотрим первые записи"
   ]
  },
  {
   "cell_type": "code",
   "execution_count": 82,
   "metadata": {},
   "outputs": [
    {
     "data": {
      "text/html": [
       "<div>\n",
       "<style>\n",
       "    .dataframe thead tr:only-child th {\n",
       "        text-align: right;\n",
       "    }\n",
       "\n",
       "    .dataframe thead th {\n",
       "        text-align: left;\n",
       "    }\n",
       "\n",
       "    .dataframe tbody tr th {\n",
       "        vertical-align: top;\n",
       "    }\n",
       "</style>\n",
       "<table border=\"1\" class=\"dataframe\">\n",
       "  <thead>\n",
       "    <tr style=\"text-align: right;\">\n",
       "      <th></th>\n",
       "      <th>2014</th>\n",
       "      <th>2015</th>\n",
       "      <th>2016</th>\n",
       "      <th>2017</th>\n",
       "      <th>2018</th>\n",
       "      <th>2019</th>\n",
       "      <th>2020</th>\n",
       "      <th>2021</th>\n",
       "      <th>2022</th>\n",
       "      <th>2023</th>\n",
       "      <th>2024</th>\n",
       "    </tr>\n",
       "    <tr>\n",
       "      <th>Occupation_Name</th>\n",
       "      <th></th>\n",
       "      <th></th>\n",
       "      <th></th>\n",
       "      <th></th>\n",
       "      <th></th>\n",
       "      <th></th>\n",
       "      <th></th>\n",
       "      <th></th>\n",
       "      <th></th>\n",
       "      <th></th>\n",
       "      <th></th>\n",
       "    </tr>\n",
       "  </thead>\n",
       "  <tbody>\n",
       "    <tr>\n",
       "      <th>All Occupations</th>\n",
       "      <td>120400</td>\n",
       "      <td>116600</td>\n",
       "      <td>118200</td>\n",
       "      <td>119700</td>\n",
       "      <td>121300</td>\n",
       "      <td>122900</td>\n",
       "      <td>124500</td>\n",
       "      <td>126000</td>\n",
       "      <td>127600</td>\n",
       "      <td>128900</td>\n",
       "      <td>130300</td>\n",
       "    </tr>\n",
       "    <tr>\n",
       "      <th>Management Occupations</th>\n",
       "      <td>9200</td>\n",
       "      <td>8900</td>\n",
       "      <td>8900</td>\n",
       "      <td>9000</td>\n",
       "      <td>9000</td>\n",
       "      <td>9100</td>\n",
       "      <td>9100</td>\n",
       "      <td>9200</td>\n",
       "      <td>9300</td>\n",
       "      <td>9300</td>\n",
       "      <td>9400</td>\n",
       "    </tr>\n",
       "    <tr>\n",
       "      <th>Occupations usually require university education.</th>\n",
       "      <td>24100</td>\n",
       "      <td>23300</td>\n",
       "      <td>23500</td>\n",
       "      <td>23800</td>\n",
       "      <td>24100</td>\n",
       "      <td>24400</td>\n",
       "      <td>24700</td>\n",
       "      <td>25000</td>\n",
       "      <td>25300</td>\n",
       "      <td>25500</td>\n",
       "      <td>25800</td>\n",
       "    </tr>\n",
       "    <tr>\n",
       "      <th>Occupations usually require college or vocational education or apprenticeship training.</th>\n",
       "      <td>32800</td>\n",
       "      <td>31900</td>\n",
       "      <td>32500</td>\n",
       "      <td>33000</td>\n",
       "      <td>33600</td>\n",
       "      <td>34100</td>\n",
       "      <td>34700</td>\n",
       "      <td>35200</td>\n",
       "      <td>35700</td>\n",
       "      <td>36200</td>\n",
       "      <td>36700</td>\n",
       "    </tr>\n",
       "    <tr>\n",
       "      <th>Occupations usually require secondary school and/or occupation-specific training.</th>\n",
       "      <td>35800</td>\n",
       "      <td>34500</td>\n",
       "      <td>34900</td>\n",
       "      <td>35300</td>\n",
       "      <td>35700</td>\n",
       "      <td>36100</td>\n",
       "      <td>36500</td>\n",
       "      <td>36900</td>\n",
       "      <td>37300</td>\n",
       "      <td>37600</td>\n",
       "      <td>37900</td>\n",
       "    </tr>\n",
       "  </tbody>\n",
       "</table>\n",
       "</div>"
      ],
      "text/plain": [
       "                                                      2014    2015    2016  \\\n",
       "Occupation_Name                                                              \n",
       "All Occupations                                     120400  116600  118200   \n",
       "Management Occupations                                9200    8900    8900   \n",
       "Occupations usually require university education.    24100   23300   23500   \n",
       "Occupations usually require college or vocation...   32800   31900   32500   \n",
       "Occupations usually require secondary school an...   35800   34500   34900   \n",
       "\n",
       "                                                      2017    2018    2019  \\\n",
       "Occupation_Name                                                              \n",
       "All Occupations                                     119700  121300  122900   \n",
       "Management Occupations                                9000    9000    9100   \n",
       "Occupations usually require university education.    23800   24100   24400   \n",
       "Occupations usually require college or vocation...   33000   33600   34100   \n",
       "Occupations usually require secondary school an...   35300   35700   36100   \n",
       "\n",
       "                                                      2020    2021    2022  \\\n",
       "Occupation_Name                                                              \n",
       "All Occupations                                     124500  126000  127600   \n",
       "Management Occupations                                9100    9200    9300   \n",
       "Occupations usually require university education.    24700   25000   25300   \n",
       "Occupations usually require college or vocation...   34700   35200   35700   \n",
       "Occupations usually require secondary school an...   36500   36900   37300   \n",
       "\n",
       "                                                      2023    2024  \n",
       "Occupation_Name                                                     \n",
       "All Occupations                                     128900  130300  \n",
       "Management Occupations                                9300    9400  \n",
       "Occupations usually require university education.    25500   25800  \n",
       "Occupations usually require college or vocation...   36200   36700  \n",
       "Occupations usually require secondary school an...   37600   37900  "
      ]
     },
     "execution_count": 82,
     "metadata": {},
     "output_type": "execute_result"
    }
   ],
   "source": [
    "data.head()"
   ]
  },
  {
   "cell_type": "markdown",
   "metadata": {},
   "source": [
    "Посмотрим последнии записи"
   ]
  },
  {
   "cell_type": "code",
   "execution_count": 83,
   "metadata": {},
   "outputs": [
    {
     "data": {
      "text/html": [
       "<div>\n",
       "<style>\n",
       "    .dataframe thead tr:only-child th {\n",
       "        text-align: right;\n",
       "    }\n",
       "\n",
       "    .dataframe thead th {\n",
       "        text-align: left;\n",
       "    }\n",
       "\n",
       "    .dataframe tbody tr th {\n",
       "        vertical-align: top;\n",
       "    }\n",
       "</style>\n",
       "<table border=\"1\" class=\"dataframe\">\n",
       "  <thead>\n",
       "    <tr style=\"text-align: right;\">\n",
       "      <th></th>\n",
       "      <th>2014</th>\n",
       "      <th>2015</th>\n",
       "      <th>2016</th>\n",
       "      <th>2017</th>\n",
       "      <th>2018</th>\n",
       "      <th>2019</th>\n",
       "      <th>2020</th>\n",
       "      <th>2021</th>\n",
       "      <th>2022</th>\n",
       "      <th>2023</th>\n",
       "      <th>2024</th>\n",
       "    </tr>\n",
       "    <tr>\n",
       "      <th>Occupation_Name</th>\n",
       "      <th></th>\n",
       "      <th></th>\n",
       "      <th></th>\n",
       "      <th></th>\n",
       "      <th></th>\n",
       "      <th></th>\n",
       "      <th></th>\n",
       "      <th></th>\n",
       "      <th></th>\n",
       "      <th></th>\n",
       "      <th></th>\n",
       "    </tr>\n",
       "  </thead>\n",
       "  <tbody>\n",
       "    <tr>\n",
       "      <th>Labourers in mineral and metal processing &amp; Labourers in metal fabrication</th>\n",
       "      <td>100</td>\n",
       "      <td>100</td>\n",
       "      <td>100</td>\n",
       "      <td>100</td>\n",
       "      <td>100</td>\n",
       "      <td>100</td>\n",
       "      <td>100</td>\n",
       "      <td>100</td>\n",
       "      <td>100</td>\n",
       "      <td>100</td>\n",
       "      <td>100</td>\n",
       "    </tr>\n",
       "    <tr>\n",
       "      <th>Labourers in chemical products processing and utilities &amp; Labourers in rubber and plastic products manufacturing</th>\n",
       "      <td>200</td>\n",
       "      <td>100</td>\n",
       "      <td>100</td>\n",
       "      <td>100</td>\n",
       "      <td>100</td>\n",
       "      <td>100</td>\n",
       "      <td>100</td>\n",
       "      <td>100</td>\n",
       "      <td>100</td>\n",
       "      <td>100</td>\n",
       "      <td>100</td>\n",
       "    </tr>\n",
       "    <tr>\n",
       "      <th>Labourers in wood, pulp and paper processing</th>\n",
       "      <td>0</td>\n",
       "      <td>0</td>\n",
       "      <td>0</td>\n",
       "      <td>0</td>\n",
       "      <td>0</td>\n",
       "      <td>0</td>\n",
       "      <td>0</td>\n",
       "      <td>0</td>\n",
       "      <td>0</td>\n",
       "      <td>0</td>\n",
       "      <td>0</td>\n",
       "    </tr>\n",
       "    <tr>\n",
       "      <th>Labourers in textile processing &amp; Other labourers in processing, manufacturing and utilities</th>\n",
       "      <td>1100</td>\n",
       "      <td>1100</td>\n",
       "      <td>1000</td>\n",
       "      <td>1000</td>\n",
       "      <td>1000</td>\n",
       "      <td>1000</td>\n",
       "      <td>1000</td>\n",
       "      <td>1000</td>\n",
       "      <td>1000</td>\n",
       "      <td>1000</td>\n",
       "      <td>1000</td>\n",
       "    </tr>\n",
       "    <tr>\n",
       "      <th>Labourers in food, beverage and related products processing &amp; Labourers in fish and seafood processing</th>\n",
       "      <td>1100</td>\n",
       "      <td>1000</td>\n",
       "      <td>1000</td>\n",
       "      <td>1000</td>\n",
       "      <td>1000</td>\n",
       "      <td>1000</td>\n",
       "      <td>1000</td>\n",
       "      <td>1000</td>\n",
       "      <td>1000</td>\n",
       "      <td>1000</td>\n",
       "      <td>900</td>\n",
       "    </tr>\n",
       "  </tbody>\n",
       "</table>\n",
       "</div>"
      ],
      "text/plain": [
       "                                                    2014  2015  2016  2017  \\\n",
       "Occupation_Name                                                              \n",
       "Labourers in mineral and metal processing & Lab...   100   100   100   100   \n",
       "Labourers in chemical products processing and u...   200   100   100   100   \n",
       "Labourers in wood, pulp and paper processing           0     0     0     0   \n",
       "Labourers in textile processing & Other laboure...  1100  1100  1000  1000   \n",
       "Labourers in food, beverage and related product...  1100  1000  1000  1000   \n",
       "\n",
       "                                                    2018  2019  2020  2021  \\\n",
       "Occupation_Name                                                              \n",
       "Labourers in mineral and metal processing & Lab...   100   100   100   100   \n",
       "Labourers in chemical products processing and u...   100   100   100   100   \n",
       "Labourers in wood, pulp and paper processing           0     0     0     0   \n",
       "Labourers in textile processing & Other laboure...  1000  1000  1000  1000   \n",
       "Labourers in food, beverage and related product...  1000  1000  1000  1000   \n",
       "\n",
       "                                                    2022  2023  2024  \n",
       "Occupation_Name                                                       \n",
       "Labourers in mineral and metal processing & Lab...   100   100   100  \n",
       "Labourers in chemical products processing and u...   100   100   100  \n",
       "Labourers in wood, pulp and paper processing           0     0     0  \n",
       "Labourers in textile processing & Other laboure...  1000  1000  1000  \n",
       "Labourers in food, beverage and related product...  1000  1000   900  "
      ]
     },
     "execution_count": 83,
     "metadata": {},
     "output_type": "execute_result"
    }
   ],
   "source": [
    "data.tail()"
   ]
  },
  {
   "cell_type": "markdown",
   "metadata": {},
   "source": [
    "Размерность данных"
   ]
  },
  {
   "cell_type": "code",
   "execution_count": 84,
   "metadata": {},
   "outputs": [
    {
     "data": {
      "text/plain": [
       "(308, 11)"
      ]
     },
     "execution_count": 84,
     "metadata": {},
     "output_type": "execute_result"
    }
   ],
   "source": [
    "data.shape"
   ]
  },
  {
   "cell_type": "markdown",
   "metadata": {},
   "source": [
    "## Проверим есть ли отсутствующие значения в данных ##"
   ]
  },
  {
   "cell_type": "markdown",
   "metadata": {},
   "source": [
    "Проверим на NaN"
   ]
  },
  {
   "cell_type": "code",
   "execution_count": 85,
   "metadata": {},
   "outputs": [
    {
     "data": {
      "text/plain": [
       "2014    False\n",
       "2015    False\n",
       "2016    False\n",
       "2017    False\n",
       "2018    False\n",
       "2019    False\n",
       "2020    False\n",
       "2021    False\n",
       "2022    False\n",
       "2023    False\n",
       "2024    False\n",
       "dtype: bool"
      ]
     },
     "execution_count": 85,
     "metadata": {},
     "output_type": "execute_result"
    }
   ],
   "source": [
    "data.isnull().any()"
   ]
  },
  {
   "cell_type": "markdown",
   "metadata": {},
   "source": [
    "Проверим есть ли строки, содержащие только нули"
   ]
  },
  {
   "cell_type": "code",
   "execution_count": 86,
   "metadata": {},
   "outputs": [
    {
     "data": {
      "text/plain": [
       "20"
      ]
     },
     "execution_count": 86,
     "metadata": {},
     "output_type": "execute_result"
    }
   ],
   "source": [
    "zero_rows = data[(data == 0).all(axis=1)]\n",
    "zero_rows.shape[0]"
   ]
  },
  {
   "cell_type": "markdown",
   "metadata": {},
   "source": [
    "20 пустых строк, удалим их из набора данных"
   ]
  },
  {
   "cell_type": "code",
   "execution_count": 87,
   "metadata": {},
   "outputs": [],
   "source": [
    "data = data[(data != 0).any(axis=1)]"
   ]
  },
  {
   "cell_type": "markdown",
   "metadata": {},
   "source": [
    "Посмотрим как в целом по всем профессиям меняется количество иммигрантов ищущих работу."
   ]
  },
  {
   "cell_type": "code",
   "execution_count": 88,
   "metadata": {},
   "outputs": [
    {
     "data": {
      "text/plain": [
       "<matplotlib.axes._subplots.AxesSubplot at 0x7f0dba20c410>"
      ]
     },
     "execution_count": 88,
     "metadata": {},
     "output_type": "execute_result"
    },
    {
     "data": {
      "image/png": "[encoded data removed]",
      "text/plain": [
       "<matplotlib.figure.Figure at 0x7f0db7ae4510>"
      ]
     },
     "metadata": {},
     "output_type": "display_data"
    }
   ],
   "source": [
    "data.iloc[0].plot()"
   ]
  },
  {
   "cell_type": "code",
   "execution_count": 91,
   "metadata": {},
   "outputs": [
    {
     "data": {
      "text/html": [
       "<div>\n",
       "<style>\n",
       "    .dataframe thead tr:only-child th {\n",
       "        text-align: right;\n",
       "    }\n",
       "\n",
       "    .dataframe thead th {\n",
       "        text-align: left;\n",
       "    }\n",
       "\n",
       "    .dataframe tbody tr th {\n",
       "        vertical-align: top;\n",
       "    }\n",
       "</style>\n",
       "<table border=\"1\" class=\"dataframe\">\n",
       "  <thead>\n",
       "    <tr style=\"text-align: right;\">\n",
       "      <th></th>\n",
       "      <th>2014</th>\n",
       "      <th>2015</th>\n",
       "      <th>2016</th>\n",
       "      <th>2017</th>\n",
       "      <th>2018</th>\n",
       "      <th>2019</th>\n",
       "      <th>2020</th>\n",
       "      <th>2021</th>\n",
       "      <th>2022</th>\n",
       "      <th>2023</th>\n",
       "      <th>2024</th>\n",
       "    </tr>\n",
       "  </thead>\n",
       "  <tbody>\n",
       "    <tr>\n",
       "      <th>count</th>\n",
       "      <td>287.000000</td>\n",
       "      <td>287.000000</td>\n",
       "      <td>287.000000</td>\n",
       "      <td>287.000000</td>\n",
       "      <td>287.000000</td>\n",
       "      <td>287.000000</td>\n",
       "      <td>287.000000</td>\n",
       "      <td>287.000000</td>\n",
       "      <td>287.000000</td>\n",
       "      <td>287.000000</td>\n",
       "      <td>287.000000</td>\n",
       "    </tr>\n",
       "    <tr>\n",
       "      <th>mean</th>\n",
       "      <td>1262.717770</td>\n",
       "      <td>1223.344948</td>\n",
       "      <td>1237.979094</td>\n",
       "      <td>1254.006969</td>\n",
       "      <td>1269.686411</td>\n",
       "      <td>1291.289199</td>\n",
       "      <td>1306.620209</td>\n",
       "      <td>1319.512195</td>\n",
       "      <td>1336.585366</td>\n",
       "      <td>1351.567944</td>\n",
       "      <td>1361.672474</td>\n",
       "    </tr>\n",
       "    <tr>\n",
       "      <th>std</th>\n",
       "      <td>4391.564976</td>\n",
       "      <td>4259.203769</td>\n",
       "      <td>4320.853657</td>\n",
       "      <td>4382.511690</td>\n",
       "      <td>4446.152683</td>\n",
       "      <td>4510.410732</td>\n",
       "      <td>4573.394258</td>\n",
       "      <td>4636.949025</td>\n",
       "      <td>4696.593712</td>\n",
       "      <td>4752.193750</td>\n",
       "      <td>4804.855643</td>\n",
       "    </tr>\n",
       "    <tr>\n",
       "      <th>min</th>\n",
       "      <td>0.000000</td>\n",
       "      <td>0.000000</td>\n",
       "      <td>0.000000</td>\n",
       "      <td>0.000000</td>\n",
       "      <td>0.000000</td>\n",
       "      <td>0.000000</td>\n",
       "      <td>0.000000</td>\n",
       "      <td>0.000000</td>\n",
       "      <td>0.000000</td>\n",
       "      <td>0.000000</td>\n",
       "      <td>0.000000</td>\n",
       "    </tr>\n",
       "    <tr>\n",
       "      <th>25%</th>\n",
       "      <td>100.000000</td>\n",
       "      <td>100.000000</td>\n",
       "      <td>100.000000</td>\n",
       "      <td>100.000000</td>\n",
       "      <td>100.000000</td>\n",
       "      <td>100.000000</td>\n",
       "      <td>100.000000</td>\n",
       "      <td>100.000000</td>\n",
       "      <td>100.000000</td>\n",
       "      <td>100.000000</td>\n",
       "      <td>100.000000</td>\n",
       "    </tr>\n",
       "    <tr>\n",
       "      <th>50%</th>\n",
       "      <td>300.000000</td>\n",
       "      <td>300.000000</td>\n",
       "      <td>300.000000</td>\n",
       "      <td>300.000000</td>\n",
       "      <td>300.000000</td>\n",
       "      <td>300.000000</td>\n",
       "      <td>300.000000</td>\n",
       "      <td>300.000000</td>\n",
       "      <td>300.000000</td>\n",
       "      <td>300.000000</td>\n",
       "      <td>300.000000</td>\n",
       "    </tr>\n",
       "    <tr>\n",
       "      <th>75%</th>\n",
       "      <td>550.000000</td>\n",
       "      <td>500.000000</td>\n",
       "      <td>500.000000</td>\n",
       "      <td>500.000000</td>\n",
       "      <td>500.000000</td>\n",
       "      <td>550.000000</td>\n",
       "      <td>550.000000</td>\n",
       "      <td>550.000000</td>\n",
       "      <td>550.000000</td>\n",
       "      <td>550.000000</td>\n",
       "      <td>600.000000</td>\n",
       "    </tr>\n",
       "    <tr>\n",
       "      <th>max</th>\n",
       "      <td>37100.000000</td>\n",
       "      <td>36200.000000</td>\n",
       "      <td>36900.000000</td>\n",
       "      <td>37500.000000</td>\n",
       "      <td>38200.000000</td>\n",
       "      <td>38900.000000</td>\n",
       "      <td>39500.000000</td>\n",
       "      <td>40200.000000</td>\n",
       "      <td>40800.000000</td>\n",
       "      <td>41400.000000</td>\n",
       "      <td>41900.000000</td>\n",
       "    </tr>\n",
       "  </tbody>\n",
       "</table>\n",
       "</div>"
      ],
      "text/plain": [
       "               2014          2015          2016          2017          2018  \\\n",
       "count    287.000000    287.000000    287.000000    287.000000    287.000000   \n",
       "mean    1262.717770   1223.344948   1237.979094   1254.006969   1269.686411   \n",
       "std     4391.564976   4259.203769   4320.853657   4382.511690   4446.152683   \n",
       "min        0.000000      0.000000      0.000000      0.000000      0.000000   \n",
       "25%      100.000000    100.000000    100.000000    100.000000    100.000000   \n",
       "50%      300.000000    300.000000    300.000000    300.000000    300.000000   \n",
       "75%      550.000000    500.000000    500.000000    500.000000    500.000000   \n",
       "max    37100.000000  36200.000000  36900.000000  37500.000000  38200.000000   \n",
       "\n",
       "               2019          2020          2021          2022          2023  \\\n",
       "count    287.000000    287.000000    287.000000    287.000000    287.000000   \n",
       "mean    1291.289199   1306.620209   1319.512195   1336.585366   1351.567944   \n",
       "std     4510.410732   4573.394258   4636.949025   4696.593712   4752.193750   \n",
       "min        0.000000      0.000000      0.000000      0.000000      0.000000   \n",
       "25%      100.000000    100.000000    100.000000    100.000000    100.000000   \n",
       "50%      300.000000    300.000000    300.000000    300.000000    300.000000   \n",
       "75%      550.000000    550.000000    550.000000    550.000000    550.000000   \n",
       "max    38900.000000  39500.000000  40200.000000  40800.000000  41400.000000   \n",
       "\n",
       "               2024  \n",
       "count    287.000000  \n",
       "mean    1361.672474  \n",
       "std     4804.855643  \n",
       "min        0.000000  \n",
       "25%      100.000000  \n",
       "50%      300.000000  \n",
       "75%      600.000000  \n",
       "max    41900.000000  "
      ]
     },
     "execution_count": 91,
     "metadata": {},
     "output_type": "execute_result"
    }
   ],
   "source": [
    "data.iloc[1:].describe()"
   ]
  },
  {
   "cell_type": "code",
   "execution_count": 92,
   "metadata": {},
   "outputs": [
    {
     "data": {
      "text/html": [
       "<div>\n",
       "<style>\n",
       "    .dataframe thead tr:only-child th {\n",
       "        text-align: right;\n",
       "    }\n",
       "\n",
       "    .dataframe thead th {\n",
       "        text-align: left;\n",
       "    }\n",
       "\n",
       "    .dataframe tbody tr th {\n",
       "        vertical-align: top;\n",
       "    }\n",
       "</style>\n",
       "<table border=\"1\" class=\"dataframe\">\n",
       "  <thead>\n",
       "    <tr style=\"text-align: right;\">\n",
       "      <th>Occupation_Name</th>\n",
       "      <th>All Occupations</th>\n",
       "      <th>Management Occupations</th>\n",
       "      <th>Occupations usually require university education.</th>\n",
       "      <th>Occupations usually require college or vocational education or apprenticeship training.</th>\n",
       "      <th>Occupations usually require secondary school and/or occupation-specific training.</th>\n",
       "      <th>On-the-job training is usually provided for occupations.</th>\n",
       "      <th>Legislators and senior management</th>\n",
       "      <th>Business, finance and administration occupations</th>\n",
       "      <th>Natural and applied sciences and related occupations</th>\n",
       "      <th>Health occupations</th>\n",
       "      <th>...</th>\n",
       "      <th>Printing equipment operators and related occupations</th>\n",
       "      <th>Aircraft assemblers and aircraft assembly inspectors; Motor vehicle assemblers, inspectors and testers &amp; Mechanical assemblers and inspectors</th>\n",
       "      <th>Electronics assemblers, fabricators, inspectors and testers</th>\n",
       "      <th>Assemblers and inspectors, electrical appliance, apparatus and equipment manufacturing &amp; Assemblers, fabricators and inspectors, industrial electrical motors and transformers</th>\n",
       "      <th>Boat assemblers and inspectors; Plastic products assemblers, finishers and inspectors; Industrial painters, coaters and metal finishing process operators&amp; Other products assemblers, finishers and inspectors</th>\n",
       "      <th>Furniture and fixture assemblers and inspectors;  Other wood products assemblers and inspectors &amp; Furniture finishers and refinishers</th>\n",
       "      <th>Labourers in mineral and metal processing &amp; Labourers in metal fabrication</th>\n",
       "      <th>Labourers in chemical products processing and utilities &amp; Labourers in rubber and plastic products manufacturing</th>\n",
       "      <th>Labourers in textile processing &amp; Other labourers in processing, manufacturing and utilities</th>\n",
       "      <th>Labourers in food, beverage and related products processing &amp; Labourers in fish and seafood processing</th>\n",
       "    </tr>\n",
       "  </thead>\n",
       "  <tbody>\n",
       "    <tr>\n",
       "      <th>count</th>\n",
       "      <td>11.000000</td>\n",
       "      <td>11.000000</td>\n",
       "      <td>11.000000</td>\n",
       "      <td>11.000000</td>\n",
       "      <td>11.000000</td>\n",
       "      <td>11.000000</td>\n",
       "      <td>11.0</td>\n",
       "      <td>11.000000</td>\n",
       "      <td>11.000000</td>\n",
       "      <td>11.000000</td>\n",
       "      <td>...</td>\n",
       "      <td>11.000000</td>\n",
       "      <td>11.000000</td>\n",
       "      <td>11.000000</td>\n",
       "      <td>11.000000</td>\n",
       "      <td>11.000000</td>\n",
       "      <td>11.00000</td>\n",
       "      <td>11.0</td>\n",
       "      <td>11.000000</td>\n",
       "      <td>11.000000</td>\n",
       "      <td>11.00000</td>\n",
       "    </tr>\n",
       "    <tr>\n",
       "      <th>mean</th>\n",
       "      <td>123309.090909</td>\n",
       "      <td>9127.272727</td>\n",
       "      <td>24500.000000</td>\n",
       "      <td>34218.181818</td>\n",
       "      <td>36227.272727</td>\n",
       "      <td>19236.363636</td>\n",
       "      <td>500.0</td>\n",
       "      <td>18736.363636</td>\n",
       "      <td>13681.818182</td>\n",
       "      <td>9545.454545</td>\n",
       "      <td>...</td>\n",
       "      <td>190.909091</td>\n",
       "      <td>454.545455</td>\n",
       "      <td>263.636364</td>\n",
       "      <td>172.727273</td>\n",
       "      <td>427.272727</td>\n",
       "      <td>400.00000</td>\n",
       "      <td>100.0</td>\n",
       "      <td>109.090909</td>\n",
       "      <td>1018.181818</td>\n",
       "      <td>1000.00000</td>\n",
       "    </tr>\n",
       "    <tr>\n",
       "      <th>std</th>\n",
       "      <td>4516.736553</td>\n",
       "      <td>167.874412</td>\n",
       "      <td>829.457654</td>\n",
       "      <td>1603.008535</td>\n",
       "      <td>1115.428984</td>\n",
       "      <td>832.193159</td>\n",
       "      <td>100.0</td>\n",
       "      <td>724.255103</td>\n",
       "      <td>256.195948</td>\n",
       "      <td>704.788814</td>\n",
       "      <td>...</td>\n",
       "      <td>30.151134</td>\n",
       "      <td>52.223297</td>\n",
       "      <td>50.452498</td>\n",
       "      <td>46.709937</td>\n",
       "      <td>46.709937</td>\n",
       "      <td>44.72136</td>\n",
       "      <td>0.0</td>\n",
       "      <td>30.151134</td>\n",
       "      <td>40.451992</td>\n",
       "      <td>44.72136</td>\n",
       "    </tr>\n",
       "    <tr>\n",
       "      <th>min</th>\n",
       "      <td>116600.000000</td>\n",
       "      <td>8900.000000</td>\n",
       "      <td>23300.000000</td>\n",
       "      <td>31900.000000</td>\n",
       "      <td>34500.000000</td>\n",
       "      <td>18000.000000</td>\n",
       "      <td>400.0</td>\n",
       "      <td>17700.000000</td>\n",
       "      <td>13300.000000</td>\n",
       "      <td>8600.000000</td>\n",
       "      <td>...</td>\n",
       "      <td>100.000000</td>\n",
       "      <td>400.000000</td>\n",
       "      <td>200.000000</td>\n",
       "      <td>100.000000</td>\n",
       "      <td>400.000000</td>\n",
       "      <td>300.00000</td>\n",
       "      <td>100.0</td>\n",
       "      <td>100.000000</td>\n",
       "      <td>1000.000000</td>\n",
       "      <td>900.00000</td>\n",
       "    </tr>\n",
       "    <tr>\n",
       "      <th>25%</th>\n",
       "      <td>120050.000000</td>\n",
       "      <td>9000.000000</td>\n",
       "      <td>23950.000000</td>\n",
       "      <td>32900.000000</td>\n",
       "      <td>35500.000000</td>\n",
       "      <td>18600.000000</td>\n",
       "      <td>400.0</td>\n",
       "      <td>18200.000000</td>\n",
       "      <td>13450.000000</td>\n",
       "      <td>8950.000000</td>\n",
       "      <td>...</td>\n",
       "      <td>200.000000</td>\n",
       "      <td>400.000000</td>\n",
       "      <td>200.000000</td>\n",
       "      <td>150.000000</td>\n",
       "      <td>400.000000</td>\n",
       "      <td>400.00000</td>\n",
       "      <td>100.0</td>\n",
       "      <td>100.000000</td>\n",
       "      <td>1000.000000</td>\n",
       "      <td>1000.00000</td>\n",
       "    </tr>\n",
       "    <tr>\n",
       "      <th>50%</th>\n",
       "      <td>122900.000000</td>\n",
       "      <td>9100.000000</td>\n",
       "      <td>24400.000000</td>\n",
       "      <td>34100.000000</td>\n",
       "      <td>36100.000000</td>\n",
       "      <td>19200.000000</td>\n",
       "      <td>500.0</td>\n",
       "      <td>18700.000000</td>\n",
       "      <td>13700.000000</td>\n",
       "      <td>9500.000000</td>\n",
       "      <td>...</td>\n",
       "      <td>200.000000</td>\n",
       "      <td>500.000000</td>\n",
       "      <td>300.000000</td>\n",
       "      <td>200.000000</td>\n",
       "      <td>400.000000</td>\n",
       "      <td>400.00000</td>\n",
       "      <td>100.0</td>\n",
       "      <td>100.000000</td>\n",
       "      <td>1000.000000</td>\n",
       "      <td>1000.00000</td>\n",
       "    </tr>\n",
       "    <tr>\n",
       "      <th>75%</th>\n",
       "      <td>126800.000000</td>\n",
       "      <td>9250.000000</td>\n",
       "      <td>25150.000000</td>\n",
       "      <td>35450.000000</td>\n",
       "      <td>37100.000000</td>\n",
       "      <td>19850.000000</td>\n",
       "      <td>550.0</td>\n",
       "      <td>19300.000000</td>\n",
       "      <td>13900.000000</td>\n",
       "      <td>10100.000000</td>\n",
       "      <td>...</td>\n",
       "      <td>200.000000</td>\n",
       "      <td>500.000000</td>\n",
       "      <td>300.000000</td>\n",
       "      <td>200.000000</td>\n",
       "      <td>450.000000</td>\n",
       "      <td>400.00000</td>\n",
       "      <td>100.0</td>\n",
       "      <td>100.000000</td>\n",
       "      <td>1000.000000</td>\n",
       "      <td>1000.00000</td>\n",
       "    </tr>\n",
       "    <tr>\n",
       "      <th>max</th>\n",
       "      <td>130300.000000</td>\n",
       "      <td>9400.000000</td>\n",
       "      <td>25800.000000</td>\n",
       "      <td>36700.000000</td>\n",
       "      <td>37900.000000</td>\n",
       "      <td>20500.000000</td>\n",
       "      <td>700.0</td>\n",
       "      <td>19900.000000</td>\n",
       "      <td>14000.000000</td>\n",
       "      <td>10600.000000</td>\n",
       "      <td>...</td>\n",
       "      <td>200.000000</td>\n",
       "      <td>500.000000</td>\n",
       "      <td>300.000000</td>\n",
       "      <td>200.000000</td>\n",
       "      <td>500.000000</td>\n",
       "      <td>500.00000</td>\n",
       "      <td>100.0</td>\n",
       "      <td>200.000000</td>\n",
       "      <td>1100.000000</td>\n",
       "      <td>1100.00000</td>\n",
       "    </tr>\n",
       "  </tbody>\n",
       "</table>\n",
       "<p>8 rows × 288 columns</p>\n",
       "</div>"
      ],
      "text/plain": [
       "Occupation_Name  All Occupations  Management Occupations  \\\n",
       "count                  11.000000               11.000000   \n",
       "mean               123309.090909             9127.272727   \n",
       "std                  4516.736553              167.874412   \n",
       "min                116600.000000             8900.000000   \n",
       "25%                120050.000000             9000.000000   \n",
       "50%                122900.000000             9100.000000   \n",
       "75%                126800.000000             9250.000000   \n",
       "max                130300.000000             9400.000000   \n",
       "\n",
       "Occupation_Name  Occupations usually require university education.  \\\n",
       "count                                                    11.000000   \n",
       "mean                                                  24500.000000   \n",
       "std                                                     829.457654   \n",
       "min                                                   23300.000000   \n",
       "25%                                                   23950.000000   \n",
       "50%                                                   24400.000000   \n",
       "75%                                                   25150.000000   \n",
       "max                                                   25800.000000   \n",
       "\n",
       "Occupation_Name  Occupations usually require college or vocational education or apprenticeship training.  \\\n",
       "count                                                    11.000000                                         \n",
       "mean                                                  34218.181818                                         \n",
       "std                                                    1603.008535                                         \n",
       "min                                                   31900.000000                                         \n",
       "25%                                                   32900.000000                                         \n",
       "50%                                                   34100.000000                                         \n",
       "75%                                                   35450.000000                                         \n",
       "max                                                   36700.000000                                         \n",
       "\n",
       "Occupation_Name  Occupations usually require secondary school and/or occupation-specific training.  \\\n",
       "count                                                    11.000000                                   \n",
       "mean                                                  36227.272727                                   \n",
       "std                                                    1115.428984                                   \n",
       "min                                                   34500.000000                                   \n",
       "25%                                                   35500.000000                                   \n",
       "50%                                                   36100.000000                                   \n",
       "75%                                                   37100.000000                                   \n",
       "max                                                   37900.000000                                   \n",
       "\n",
       "Occupation_Name  On-the-job training is usually provided for occupations.  \\\n",
       "count                                                    11.000000          \n",
       "mean                                                  19236.363636          \n",
       "std                                                     832.193159          \n",
       "min                                                   18000.000000          \n",
       "25%                                                   18600.000000          \n",
       "50%                                                   19200.000000          \n",
       "75%                                                   19850.000000          \n",
       "max                                                   20500.000000          \n",
       "\n",
       "Occupation_Name  Legislators and senior management  \\\n",
       "count                                         11.0   \n",
       "mean                                         500.0   \n",
       "std                                          100.0   \n",
       "min                                          400.0   \n",
       "25%                                          400.0   \n",
       "50%                                          500.0   \n",
       "75%                                          550.0   \n",
       "max                                          700.0   \n",
       "\n",
       "Occupation_Name  Business, finance and administration occupations  \\\n",
       "count                                                   11.000000   \n",
       "mean                                                 18736.363636   \n",
       "std                                                    724.255103   \n",
       "min                                                  17700.000000   \n",
       "25%                                                  18200.000000   \n",
       "50%                                                  18700.000000   \n",
       "75%                                                  19300.000000   \n",
       "max                                                  19900.000000   \n",
       "\n",
       "Occupation_Name  Natural and applied sciences and related occupations  \\\n",
       "count                                                    11.000000      \n",
       "mean                                                  13681.818182      \n",
       "std                                                     256.195948      \n",
       "min                                                   13300.000000      \n",
       "25%                                                   13450.000000      \n",
       "50%                                                   13700.000000      \n",
       "75%                                                   13900.000000      \n",
       "max                                                   14000.000000      \n",
       "\n",
       "Occupation_Name  Health occupations  \\\n",
       "count                     11.000000   \n",
       "mean                    9545.454545   \n",
       "std                      704.788814   \n",
       "min                     8600.000000   \n",
       "25%                     8950.000000   \n",
       "50%                     9500.000000   \n",
       "75%                    10100.000000   \n",
       "max                    10600.000000   \n",
       "\n",
       "Occupation_Name                                                   ...                                                    \\\n",
       "count                                                             ...                                                     \n",
       "mean                                                              ...                                                     \n",
       "std                                                               ...                                                     \n",
       "min                                                               ...                                                     \n",
       "25%                                                               ...                                                     \n",
       "50%                                                               ...                                                     \n",
       "75%                                                               ...                                                     \n",
       "max                                                               ...                                                     \n",
       "\n",
       "Occupation_Name  Printing equipment operators and related occupations  \\\n",
       "count                                                    11.000000      \n",
       "mean                                                    190.909091      \n",
       "std                                                      30.151134      \n",
       "min                                                     100.000000      \n",
       "25%                                                     200.000000      \n",
       "50%                                                     200.000000      \n",
       "75%                                                     200.000000      \n",
       "max                                                     200.000000      \n",
       "\n",
       "Occupation_Name  Aircraft assemblers and aircraft assembly inspectors; Motor vehicle assemblers, inspectors and testers & Mechanical assemblers and inspectors  \\\n",
       "count                                                    11.000000                                                                                               \n",
       "mean                                                    454.545455                                                                                               \n",
       "std                                                      52.223297                                                                                               \n",
       "min                                                     400.000000                                                                                               \n",
       "25%                                                     400.000000                                                                                               \n",
       "50%                                                     500.000000                                                                                               \n",
       "75%                                                     500.000000                                                                                               \n",
       "max                                                     500.000000                                                                                               \n",
       "\n",
       "Occupation_Name  Electronics assemblers, fabricators, inspectors and testers  \\\n",
       "count                                                    11.000000             \n",
       "mean                                                    263.636364             \n",
       "std                                                      50.452498             \n",
       "min                                                     200.000000             \n",
       "25%                                                     200.000000             \n",
       "50%                                                     300.000000             \n",
       "75%                                                     300.000000             \n",
       "max                                                     300.000000             \n",
       "\n",
       "Occupation_Name  Assemblers and inspectors, electrical appliance, apparatus and equipment manufacturing & Assemblers, fabricators and inspectors, industrial electrical motors and transformers  \\\n",
       "count                                                    11.000000                                                                                                                                \n",
       "mean                                                    172.727273                                                                                                                                \n",
       "std                                                      46.709937                                                                                                                                \n",
       "min                                                     100.000000                                                                                                                                \n",
       "25%                                                     150.000000                                                                                                                                \n",
       "50%                                                     200.000000                                                                                                                                \n",
       "75%                                                     200.000000                                                                                                                                \n",
       "max                                                     200.000000                                                                                                                                \n",
       "\n",
       "Occupation_Name  Boat assemblers and inspectors; Plastic products assemblers, finishers and inspectors; Industrial painters, coaters and metal finishing process operators& Other products assemblers, finishers and inspectors  \\\n",
       "count                                                    11.000000                                                                                                                                                                \n",
       "mean                                                    427.272727                                                                                                                                                                \n",
       "std                                                      46.709937                                                                                                                                                                \n",
       "min                                                     400.000000                                                                                                                                                                \n",
       "25%                                                     400.000000                                                                                                                                                                \n",
       "50%                                                     400.000000                                                                                                                                                                \n",
       "75%                                                     450.000000                                                                                                                                                                \n",
       "max                                                     500.000000                                                                                                                                                                \n",
       "\n",
       "Occupation_Name  Furniture and fixture assemblers and inspectors;  Other wood products assemblers and inspectors & Furniture finishers and refinishers  \\\n",
       "count                                                     11.00000                                                                                       \n",
       "mean                                                     400.00000                                                                                       \n",
       "std                                                       44.72136                                                                                       \n",
       "min                                                      300.00000                                                                                       \n",
       "25%                                                      400.00000                                                                                       \n",
       "50%                                                      400.00000                                                                                       \n",
       "75%                                                      400.00000                                                                                       \n",
       "max                                                      500.00000                                                                                       \n",
       "\n",
       "Occupation_Name  Labourers in mineral and metal processing & Labourers in metal fabrication  \\\n",
       "count                                                         11.0                            \n",
       "mean                                                         100.0                            \n",
       "std                                                            0.0                            \n",
       "min                                                          100.0                            \n",
       "25%                                                          100.0                            \n",
       "50%                                                          100.0                            \n",
       "75%                                                          100.0                            \n",
       "max                                                          100.0                            \n",
       "\n",
       "Occupation_Name  Labourers in chemical products processing and utilities & Labourers in rubber and plastic products manufacturing  \\\n",
       "count                                                    11.000000                                                                  \n",
       "mean                                                    109.090909                                                                  \n",
       "std                                                      30.151134                                                                  \n",
       "min                                                     100.000000                                                                  \n",
       "25%                                                     100.000000                                                                  \n",
       "50%                                                     100.000000                                                                  \n",
       "75%                                                     100.000000                                                                  \n",
       "max                                                     200.000000                                                                  \n",
       "\n",
       "Occupation_Name  Labourers in textile processing & Other labourers in processing, manufacturing and utilities  \\\n",
       "count                                                    11.000000                                              \n",
       "mean                                                   1018.181818                                              \n",
       "std                                                      40.451992                                              \n",
       "min                                                    1000.000000                                              \n",
       "25%                                                    1000.000000                                              \n",
       "50%                                                    1000.000000                                              \n",
       "75%                                                    1000.000000                                              \n",
       "max                                                    1100.000000                                              \n",
       "\n",
       "Occupation_Name  Labourers in food, beverage and related products processing & Labourers in fish and seafood processing  \n",
       "count                                                     11.00000                                                       \n",
       "mean                                                    1000.00000                                                       \n",
       "std                                                       44.72136                                                       \n",
       "min                                                      900.00000                                                       \n",
       "25%                                                     1000.00000                                                       \n",
       "50%                                                     1000.00000                                                       \n",
       "75%                                                     1000.00000                                                       \n",
       "max                                                     1100.00000                                                       \n",
       "\n",
       "[8 rows x 288 columns]"
      ]
     },
     "execution_count": 92,
     "metadata": {},
     "output_type": "execute_result"
    }
   ],
   "source": [
    "data.T.describe()"
   ]
  },
  {
   "cell_type": "markdown",
   "metadata": {},
   "source": [
    "Найдем группу профессий с мин/макс количеством иммигрантов за текущий 2017 год"
   ]
  },
  {
   "cell_type": "code",
   "execution_count": 71,
   "metadata": {
    "collapsed": true
   },
   "outputs": [],
   "source": [
    "year = '2017'"
   ]
  },
  {
   "cell_type": "code",
   "execution_count": 72,
   "metadata": {},
   "outputs": [
    {
     "data": {
      "text/plain": [
       "u'Managers in public protection services'"
      ]
     },
     "execution_count": 72,
     "metadata": {},
     "output_type": "execute_result"
    }
   ],
   "source": [
    "ix_min = data[year].iloc[1:].idxmin()\n",
    "ix_min"
   ]
  },
  {
   "cell_type": "code",
   "execution_count": 73,
   "metadata": {},
   "outputs": [
    {
     "data": {
      "text/plain": [
       "0"
      ]
     },
     "execution_count": 73,
     "metadata": {},
     "output_type": "execute_result"
    }
   ],
   "source": [
    "data[year][ix_min]"
   ]
  },
  {
   "cell_type": "markdown",
   "metadata": {},
   "source": [
    "Не удивительно, что ноль. К группе \"Managers in public protection services\" относятся такие подгруппы профессий как:\n",
    "    \n",
    "    * Commissioned police officers\n",
    "    * Fire chiefs and senior firefighting officers\n",
    "    * Commissioned officers of the Canadian Forces\n",
    "    \n",
    "Т.е. то, что связано с безопасностью. Иммигрантов, как правило не берут на такие профессии. Давайте, посмотрим,\n",
    "а вообще по всем годам есть положительные прогнозы для данной группы?"
   ]
  },
  {
   "cell_type": "code",
   "execution_count": 74,
   "metadata": {},
   "outputs": [
    {
     "data": {
      "text/plain": [
       "<matplotlib.axes._subplots.AxesSubplot at 0x7f0db7b89090>"
      ]
     },
     "execution_count": 74,
     "metadata": {},
     "output_type": "execute_result"
    },
    {
     "data": {
      "image/png": "[encoded data removed]",
      "text/plain": [
       "<matplotlib.figure.Figure at 0x7f0db7b9c390>"
      ]
     },
     "metadata": {},
     "output_type": "display_data"
    }
   ],
   "source": [
    "data.loc[ix_min].plot()"
   ]
  },
  {
   "cell_type": "markdown",
   "metadata": {},
   "source": [
    "В 2014 году были и по прогнозам в будущем будут."
   ]
  },
  {
   "cell_type": "code",
   "execution_count": 75,
   "metadata": {},
   "outputs": [
    {
     "data": {
      "text/plain": [
       "u'Sales and service occupations'"
      ]
     },
     "execution_count": 75,
     "metadata": {},
     "output_type": "execute_result"
    }
   ],
   "source": [
    "ix_max = data['2017'].iloc[1:].idxmax()\n",
    "ix_max"
   ]
  },
  {
   "cell_type": "code",
   "execution_count": 76,
   "metadata": {},
   "outputs": [
    {
     "data": {
      "text/plain": [
       "37500"
      ]
     },
     "execution_count": 76,
     "metadata": {},
     "output_type": "execute_result"
    }
   ],
   "source": [
    "data[year][ix_max]"
   ]
  },
  {
   "cell_type": "code",
   "execution_count": 77,
   "metadata": {},
   "outputs": [
    {
     "data": {
      "text/plain": [
       "<matplotlib.axes._subplots.AxesSubplot at 0x7f0db7cba710>"
      ]
     },
     "execution_count": 77,
     "metadata": {},
     "output_type": "execute_result"
    },
    {
     "data": {
      "image/png": "[encoded data removed]",
      "text/plain": [
       "<matplotlib.figure.Figure at 0x7f0db7b65790>"
      ]
     },
     "metadata": {},
     "output_type": "display_data"
    }
   ],
   "source": [
    "data.loc[ix_max].plot()"
   ]
  },
  {
   "cell_type": "markdown",
   "metadata": {},
   "source": [
    "Попробуем найти все группы профессий, связанных с информационными технологиями."
   ]
  },
  {
   "cell_type": "code",
   "execution_count": 78,
   "metadata": {},
   "outputs": [],
   "source": [
    "ixs_comp = ['computer' in el.lower() for el in data.index]\n",
    "data = data[ixs_comp]"
   ]
  },
  {
   "cell_type": "code",
   "execution_count": 79,
   "metadata": {},
   "outputs": [
    {
     "data": {
      "text/html": [
       "<div>\n",
       "<style>\n",
       "    .dataframe thead tr:only-child th {\n",
       "        text-align: right;\n",
       "    }\n",
       "\n",
       "    .dataframe thead th {\n",
       "        text-align: left;\n",
       "    }\n",
       "\n",
       "    .dataframe tbody tr th {\n",
       "        vertical-align: top;\n",
       "    }\n",
       "</style>\n",
       "<table border=\"1\" class=\"dataframe\">\n",
       "  <thead>\n",
       "    <tr style=\"text-align: right;\">\n",
       "      <th></th>\n",
       "      <th>2014</th>\n",
       "      <th>2015</th>\n",
       "      <th>2016</th>\n",
       "      <th>2017</th>\n",
       "      <th>2018</th>\n",
       "      <th>2019</th>\n",
       "      <th>2020</th>\n",
       "      <th>2021</th>\n",
       "      <th>2022</th>\n",
       "      <th>2023</th>\n",
       "      <th>2024</th>\n",
       "    </tr>\n",
       "    <tr>\n",
       "      <th>Occupation_Name</th>\n",
       "      <th></th>\n",
       "      <th></th>\n",
       "      <th></th>\n",
       "      <th></th>\n",
       "      <th></th>\n",
       "      <th></th>\n",
       "      <th></th>\n",
       "      <th></th>\n",
       "      <th></th>\n",
       "      <th></th>\n",
       "      <th></th>\n",
       "    </tr>\n",
       "  </thead>\n",
       "  <tbody>\n",
       "    <tr>\n",
       "      <th>Computer and information systems managers</th>\n",
       "      <td>500</td>\n",
       "      <td>500</td>\n",
       "      <td>500</td>\n",
       "      <td>500</td>\n",
       "      <td>500</td>\n",
       "      <td>500</td>\n",
       "      <td>500</td>\n",
       "      <td>500</td>\n",
       "      <td>500</td>\n",
       "      <td>500</td>\n",
       "      <td>600</td>\n",
       "    </tr>\n",
       "    <tr>\n",
       "      <th>Computer engineers (except software engineers and designers)</th>\n",
       "      <td>500</td>\n",
       "      <td>500</td>\n",
       "      <td>500</td>\n",
       "      <td>500</td>\n",
       "      <td>500</td>\n",
       "      <td>500</td>\n",
       "      <td>500</td>\n",
       "      <td>500</td>\n",
       "      <td>500</td>\n",
       "      <td>500</td>\n",
       "      <td>500</td>\n",
       "    </tr>\n",
       "    <tr>\n",
       "      <th>Computer programmers and interactive media developers</th>\n",
       "      <td>1500</td>\n",
       "      <td>1500</td>\n",
       "      <td>1500</td>\n",
       "      <td>1500</td>\n",
       "      <td>1500</td>\n",
       "      <td>1500</td>\n",
       "      <td>1500</td>\n",
       "      <td>1500</td>\n",
       "      <td>1500</td>\n",
       "      <td>1500</td>\n",
       "      <td>1500</td>\n",
       "    </tr>\n",
       "    <tr>\n",
       "      <th>Computer network technician</th>\n",
       "      <td>700</td>\n",
       "      <td>600</td>\n",
       "      <td>600</td>\n",
       "      <td>600</td>\n",
       "      <td>600</td>\n",
       "      <td>700</td>\n",
       "      <td>700</td>\n",
       "      <td>700</td>\n",
       "      <td>700</td>\n",
       "      <td>700</td>\n",
       "      <td>700</td>\n",
       "    </tr>\n",
       "  </tbody>\n",
       "</table>\n",
       "</div>"
      ],
      "text/plain": [
       "                                                    2014  2015  2016  2017  \\\n",
       "Occupation_Name                                                              \n",
       "Computer and information systems managers            500   500   500   500   \n",
       "Computer engineers (except software engineers a...   500   500   500   500   \n",
       "Computer programmers and interactive media deve...  1500  1500  1500  1500   \n",
       "Computer network technician                          700   600   600   600   \n",
       "\n",
       "                                                    2018  2019  2020  2021  \\\n",
       "Occupation_Name                                                              \n",
       "Computer and information systems managers            500   500   500   500   \n",
       "Computer engineers (except software engineers a...   500   500   500   500   \n",
       "Computer programmers and interactive media deve...  1500  1500  1500  1500   \n",
       "Computer network technician                          600   700   700   700   \n",
       "\n",
       "                                                    2022  2023  2024  \n",
       "Occupation_Name                                                       \n",
       "Computer and information systems managers            500   500   600  \n",
       "Computer engineers (except software engineers a...   500   500   500  \n",
       "Computer programmers and interactive media deve...  1500  1500  1500  \n",
       "Computer network technician                          700   700   700  "
      ]
     },
     "execution_count": 79,
     "metadata": {},
     "output_type": "execute_result"
    }
   ],
   "source": [
    "data"
   ]
  },
  {
   "cell_type": "markdown",
   "metadata": {},
   "source": [
    "Какие-то \"скучные\" прогнозы."
   ]
  },
  {
   "cell_type": "code",
   "execution_count": null,
   "metadata": {
    "collapsed": true
   },
   "outputs": [],
   "source": []
  }
 ],
 "metadata": {
  "kernelspec": {
   "display_name": "Python 2",
   "language": "python",
   "name": "python2"
  },
  "language_info": {
   "codemirror_mode": {
    "name": "ipython",
    "version": 2
   },
   "file_extension": ".py",
   "mimetype": "text/x-python",
   "name": "python",
   "nbconvert_exporter": "python",
   "pygments_lexer": "ipython2",
   "version": "2.7.12"
  }
 },
 "nbformat": 4,
 "nbformat_minor": 1
}
